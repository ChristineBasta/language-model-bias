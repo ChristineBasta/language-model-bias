{
 "cells": [
  {
   "cell_type": "code",
   "execution_count": 2,
   "metadata": {},
   "outputs": [],
   "source": [
    "import json\n",
    "import nltk\n",
    "from nltk.corpus import stopwords\n",
    "stopwords =  set(stopwords.words('english'))\n",
    "#biased_m_f for m>0 and f>0\n",
    "with open ('/beegfs/sb6416/ds1012/scores/dm/training_bs/bias_scores/biased_words_m_f') as f :\n",
    "    dm_train = json.load(f)\n",
    "with open ('/beegfs/sb6416/ds1012/scores/bbc/training_bs/bias_scores/biased_words_m_f') as f :\n",
    "    bbc_train = json.load(f)\n",
    "    \n",
    "\"\"\"with open ('/beegfs/sb6416/ds1012/scores/dm/bs_bias_reg/bias_scores/biased_words_m_f') as f :\n",
    "    dm_gen = json.load(f)\"\"\"\n",
    "with open ('/beegfs/sb6416/ds1012/scores/bbc/bias_score_p8/bias_scores/biased_words_m_f') as f :\n",
    "    bbc_gen = json.load(f)    \n",
    "\n",
    "with open ('/beegfs/sb6416/ds1012/scores/dm/bs_bias_reg/bias_scores/biased_words_m_f') as f :\n",
    "    dm_br = json.load(f)\n",
    "with open ('/beegfs/sb6416/ds1012/scores/bbc/bs_bias_reg/bias_scores/biased_words_m_f') as f :\n",
    "    bbc_br = json.load(f)\n",
    "    \n",
    "    "
   ]
  },
  {
   "cell_type": "code",
   "execution_count": null,
   "metadata": {},
   "outputs": [],
   "source": [
    "#comparision between bbc train and  gen text\n",
    "\n",
    "U ={}\n",
    "N = 0 \n",
    "for x in bbc_gen :\n",
    "    if x in bbc_train and x not in stopwords:\n",
    "        print (x)\n",
    "        print(bbc_train[x]['b_score'])\n",
    "        print(bbc_gen[x]['b_score'])\n",
    "        U[x] = { 'train_bs' : bbc_train[x]['b_score'], 'gen_text_bs' : bbc_gen[x]['b_score']}\n",
    "    \n",
    "print(U)    \n",
    "print(U.keys())    \n",
    "    "
   ]
  },
  {
   "cell_type": "code",
   "execution_count": null,
   "metadata": {},
   "outputs": [],
   "source": [
    "#comparision between dailymail train and  gen text\n",
    "\n",
    "U ={}\n",
    "N = 0 \n",
    "for x in dm_gen :\n",
    "    if x in dm_train and x not in stopwords:\n",
    "        print (x)\n",
    "        print(dm_train[x]['b_score'])\n",
    "        print(dm_gen[x]['b_score'])\n",
    "        U[x] = { 'train_bs' : dm_train[x]['b_score'], 'gen_text_bs' : dm_gen[x]['b_score']}\n",
    "    \n",
    "print(U)    \n",
    "print(U.keys())    \n",
    "    "
   ]
  },
  {
   "cell_type": "code",
   "execution_count": null,
   "metadata": {},
   "outputs": [],
   "source": [
    "#comparision between dm train and  gen text with regularization term \n",
    "\n",
    "U ={}\n",
    "N = 0 \n",
    "for x in dm_br :\n",
    "    if x in dm_train and x not in stopwords:\n",
    "        print (x, dm_train[x]['b_score'],dm_br[x]['b_score'])\n",
    "        U[x] = { 'train_bs' : dm_train[x]['b_score'], 'gen_text_bs' : dm_br[x]['b_score']}\n",
    "    \n",
    "#print(U)    \n",
    "print(U.keys())    \n",
    "    "
   ]
  },
  {
   "cell_type": "code",
   "execution_count": 8,
   "metadata": {},
   "outputs": [],
   "source": [
    "with open ('/beegfs/sb6416/ds1012/scores/dm/training_bs/bias_scores/biased_words') as f :\n",
    "    dm_train = json.load(f)\n",
    "with open ('/beegfs/sb6416/ds1012/scores/bbc/training_bs/bias_scores/biased_words') as f :\n",
    "    bbc_train = json.load(f)\n",
    "    \n",
    "\"\"\"with open ('/beegfs/sb6416/ds1012/scores/dm/bs_bias_reg/bias_scores/biased_words') as f :\n",
    "    dm_gen = json.load(f)\"\"\"\n",
    "with open ('/beegfs/sb6416/ds1012/scores/bbc/bias_score_p8/bias_scores/biased_words') as f :\n",
    "    bbc_gen = json.load(f)    \n",
    "\n",
    "with open ('/beegfs/sb6416/ds1012/scores/dm/bs_bias_reg/bias_scores/biased_words') as f :\n",
    "    dm_br = json.load(f)\n",
    "with open ('/beegfs/sb6416/ds1012/scores/bbc/bs_bias_reg/bias_scores/biased_words') as f :\n",
    "    bbc_br = json.load(f)"
   ]
  },
  {
   "cell_type": "code",
   "execution_count": null,
   "metadata": {},
   "outputs": [],
   "source": [
    "#comparision between bbc train and  gen text\n",
    "\n",
    "U ={}\n",
    "N = 0 \n",
    "for x in bbc_gen :\n",
    "    if x in bbc_train and x not in stopwords:\n",
    "        print (x)\n",
    "        print(bbc_train[x]['b_score'])\n",
    "        print(bbc_gen[x]['b_score'])\n",
    "        U[x] = { 'train_bs' : bbc_train[x]['b_score'], 'gen_text_bs' : bbc_gen[x]['b_score']}\n",
    "    \n",
    "print(U)    \n",
    "print(U.keys())    \n",
    "    "
   ]
  },
  {
   "cell_type": "code",
   "execution_count": null,
   "metadata": {},
   "outputs": [],
   "source": [
    "#comparision between dailymail train and  gen text\n",
    "\n",
    "U ={}\n",
    "N = 0 \n",
    "for x in dm_gen :\n",
    "    if x in dm_train and x not in stopwords:\n",
    "        print (x)\n",
    "        print(dm_train[x]['b_score'])\n",
    "        print(dm_gen[x]['b_score'])\n",
    "        U[x] = { 'train_bs' : dm_train[x]['b_score'], 'gen_text_bs' : dm_gen[x]['b_score']}\n",
    "    \n",
    "print(U)    \n",
    "print(U.keys())    \n",
    "    "
   ]
  },
  {
   "cell_type": "code",
   "execution_count": null,
   "metadata": {},
   "outputs": [],
   "source": [
    "#comparision between dm train and  gen text with regularization term \n",
    "\n",
    "U ={}\n",
    "N = 0 \n",
    "for x in dm_br :\n",
    "    if x in dm_train and x not in stopwords:\n",
    "        print (x, dm_train[x]['b_score'],dm_br[x]['b_score'])\n",
    "        U[x] = { 'train_bs' : dm_train[x]['b_score'], 'gen_text_bs' : dm_br[x]['b_score']}\n",
    "    \n",
    "#print(U)    \n",
    "print(U.keys())    \n",
    "    "
   ]
  },
  {
   "cell_type": "code",
   "execution_count": null,
   "metadata": {},
   "outputs": [],
   "source": []
  },
  {
   "cell_type": "code",
   "execution_count": null,
   "metadata": {},
   "outputs": [],
   "source": []
  }
 ],
 "metadata": {
  "kernelspec": {
   "display_name": "Python 3",
   "language": "python",
   "name": "python3"
  },
  "language_info": {
   "codemirror_mode": {
    "name": "ipython",
    "version": 3
   },
   "file_extension": ".py",
   "mimetype": "text/x-python",
   "name": "python",
   "nbconvert_exporter": "python",
   "pygments_lexer": "ipython3",
   "version": "3.6.3"
  }
 },
 "nbformat": 4,
 "nbformat_minor": 2
}
